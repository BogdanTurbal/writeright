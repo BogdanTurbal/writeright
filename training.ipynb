{
 "cells": [
  {
   "cell_type": "code",
   "execution_count": 1,
   "id": "aeae971a",
   "metadata": {},
   "outputs": [],
   "source": [
    "import tensorflow as tf\n",
    "import matplotlib.pyplot as plt\n",
    "import tensorflow.keras.layers as layers\n",
    "import numpy as np"
   ]
  },
  {
   "cell_type": "code",
   "execution_count": 5,
   "id": "224561b3",
   "metadata": {},
   "outputs": [],
   "source": [
    "path_data = 'data/'"
   ]
  },
  {
   "cell_type": "code",
   "execution_count": 6,
   "id": "338b05d1",
   "metadata": {},
   "outputs": [],
   "source": [
    "#LOAD DATASET"
   ]
  },
  {
   "cell_type": "code",
   "execution_count": 7,
   "id": "cad51c2d",
   "metadata": {},
   "outputs": [],
   "source": [
    "img = tf.keras.preprocessing.image.load_img(\n",
    "    path_data + 'data_subset/data_subset/a01-000u-s00-00.png')\n",
    "img_np = np.expand_dims(np.array(img), axis=0)"
   ]
  },
  {
   "cell_type": "code",
   "execution_count": 8,
   "id": "7d79069e",
   "metadata": {},
   "outputs": [
    {
     "name": "stdout",
     "output_type": "stream",
     "text": [
      "<class 'numpy.ndarray'>\n",
      "(1, 89, 1661, 3)\n"
     ]
    },
    {
     "data": {
      "image/png": "[encoded data removed]",
      "text/plain": [
       "<Figure size 640x480 with 1 Axes>"
      ]
     },
     "metadata": {},
     "output_type": "display_data"
    }
   ],
   "source": [
    "plt.imshow(img_np[0])\n",
    "print(type(img_np))\n",
    "print(img_np.shape)"
   ]
  },
  {
   "cell_type": "code",
   "execution_count": 9,
   "id": "3daea19a",
   "metadata": {},
   "outputs": [],
   "source": [
    "def get_encoder():\n",
    "    input = layers.Input(shape=(89, 1661, 3,))\n",
    "\n",
    "    x = layers.Conv2D(8, 3, padding='same', activation='tanh')(input)\n",
    "\n",
    "    x = layers.Conv2D(16, (2, 4), padding='same', activation='tanh')(x)\n",
    "    delt = layers.Conv2D(16, 3, padding='same', activation='sigmoid')(x)\n",
    "    x = x * delt\n",
    "\n",
    "    x = layers.Conv2D(32, 3, padding='same', activation='tanh')(x)\n",
    "    delt = layers.Conv2D(32, 3, padding='same', activation='sigmoid')(x)\n",
    "    x = x * delt\n",
    "\n",
    "    x = layers.Conv2D(64, (2, 4), padding='same', activation='tanh')(x)\n",
    "    delt = layers.Conv2D(64, 3, padding='same', activation='sigmoid')(x)\n",
    "    x = x * delt\n",
    "\n",
    "    x = layers.Conv2D(128, 3, padding='same', activation='tanh')(input)\n",
    "    return tf.keras.Model(inputs=input, outputs=x)"
   ]
  },
  {
   "cell_type": "code",
   "execution_count": 18,
   "id": "e2a99d63",
   "metadata": {},
   "outputs": [],
   "source": [
    "def max_pooling(input):\n",
    "    res = layers.MaxPool2D(pool_size=(89, 1), padding='valid')(input)\n",
    "    res = tf.squeeze(res, axis = 1)\n",
    "    return res"
   ]
  },
  {
   "cell_type": "code",
   "execution_count": 19,
   "id": "f456335f",
   "metadata": {},
   "outputs": [],
   "source": [
    "encoder = get_encoder()"
   ]
  },
  {
   "cell_type": "code",
   "execution_count": 20,
   "id": "ff71dc2d",
   "metadata": {},
   "outputs": [
    {
     "name": "stdout",
     "output_type": "stream",
     "text": [
      "(1, 89, 1661, 128)\n"
     ]
    }
   ],
   "source": [
    "encoded = encoder(img_np)\n",
    "print(encoded.shape)"
   ]
  },
  {
   "cell_type": "code",
   "execution_count": 21,
   "id": "b4c17f8d",
   "metadata": {},
   "outputs": [],
   "source": [
    "pooled = max_pooling(encoded)"
   ]
  },
  {
   "cell_type": "code",
   "execution_count": 22,
   "id": "47ff43a5",
   "metadata": {},
   "outputs": [
    {
     "name": "stdout",
     "output_type": "stream",
     "text": [
      "(1, 1661, 128)\n"
     ]
    }
   ],
   "source": [
    "print(pooled.shape)"
   ]
  },
  {
   "cell_type": "code",
   "execution_count": 23,
   "id": "13897c0e",
   "metadata": {},
   "outputs": [],
   "source": [
    "def decoder():\n",
    "    input = nn.Input(shape=(1661, 128,))"
   ]
  },
  {
   "cell_type": "code",
   "execution_count": null,
   "id": "482d4e98",
   "metadata": {},
   "outputs": [],
   "source": []
  }
 ],
 "metadata": {
  "kernelspec": {
   "display_name": "Python [conda env:tf] *",
   "language": "python",
   "name": "conda-env-tf-py"
  },
  "language_info": {
   "codemirror_mode": {
    "name": "ipython",
    "version": 3
   },
   "file_extension": ".py",
   "mimetype": "text/x-python",
   "name": "python",
   "nbconvert_exporter": "python",
   "pygments_lexer": "ipython3",
   "version": "3.9.15"
  }
 },
 "nbformat": 4,
 "nbformat_minor": 5
}
